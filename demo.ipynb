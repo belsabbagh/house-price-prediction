{
 "cells": [
  {
   "attachments": {},
   "cell_type": "markdown",
   "metadata": {},
   "source": [
    "# House Price Prediction using Linear Regression\n"
   ]
  },
  {
   "cell_type": "code",
   "execution_count": 22,
   "metadata": {},
   "outputs": [],
   "source": [
    "import pandas as pd\n",
    "\n",
    "from src.linear_regression import GDLinearRegression, LinearRegression\n",
    "from sklearn.linear_model import LinearRegression as SklearnLinearRegression\n",
    "from src.tester import base_test"
   ]
  },
  {
   "attachments": {},
   "cell_type": "markdown",
   "metadata": {},
   "source": [
    "## Load the data"
   ]
  },
  {
   "cell_type": "code",
   "execution_count": 23,
   "metadata": {},
   "outputs": [],
   "source": [
    "df = pd.read_csv(\"data/house-price-data.csv\")\n",
    "X, y = df.loc[:, df.columns != \"price\"], df[\"price\"]\n"
   ]
  },
  {
   "attachments": {},
   "cell_type": "markdown",
   "metadata": {},
   "source": [
    "## Preprocess the data"
   ]
  },
  {
   "cell_type": "code",
   "execution_count": 24,
   "metadata": {},
   "outputs": [],
   "source": [
    "X = X.drop([\"date\", \"street\", \"city\", \"statezip\", \"country\"], axis=1, inplace=False)\n",
    "X = (X - X.mean()) / X.std()\n",
    "y = (y - y.mean()) / y.std()"
   ]
  },
  {
   "attachments": {},
   "cell_type": "markdown",
   "metadata": {},
   "source": [
    "## Initialize models"
   ]
  },
  {
   "cell_type": "code",
   "execution_count": 25,
   "metadata": {},
   "outputs": [],
   "source": [
    "models = {\n",
    "    \"GDLinearRegression\": GDLinearRegression(learning_rate=0.05, threshold=1e-9),\n",
    "    \"LinearRegression\": LinearRegression(),\n",
    "    \"SklearnLinearRegression\": SklearnLinearRegression(),\n",
    "}"
   ]
  },
  {
   "attachments": {},
   "cell_type": "markdown",
   "metadata": {},
   "source": [
    "## Test each model"
   ]
  },
  {
   "cell_type": "code",
   "execution_count": 26,
   "metadata": {},
   "outputs": [
    {
     "name": "stdout",
     "output_type": "stream",
     "text": [
      "Testing GDLinearRegression\n",
      "mse: 0.789 +/- 1.448\n",
      "Testing LinearRegression\n",
      "mse: 1.039 +/- 1.406\n",
      "Testing SklearnLinearRegression\n",
      "mse: 0.789 +/- 1.448\n"
     ]
    }
   ],
   "source": [
    "for name, model in models.items():\n",
    "    print(f\"Testing {name}\")\n",
    "    base_test(model)"
   ]
  }
 ],
 "metadata": {
  "kernelspec": {
   "display_name": "Python 3",
   "language": "python",
   "name": "python3"
  },
  "language_info": {
   "codemirror_mode": {
    "name": "ipython",
    "version": 3
   },
   "file_extension": ".py",
   "mimetype": "text/x-python",
   "name": "python",
   "nbconvert_exporter": "python",
   "pygments_lexer": "ipython3",
   "version": "3.11.2"
  },
  "orig_nbformat": 4
 },
 "nbformat": 4,
 "nbformat_minor": 2
}
